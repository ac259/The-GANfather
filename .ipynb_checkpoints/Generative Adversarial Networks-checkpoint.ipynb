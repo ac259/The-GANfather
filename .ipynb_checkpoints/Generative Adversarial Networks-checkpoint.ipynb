{
 "cells": [
  {
   "cell_type": "markdown",
   "metadata": {},
   "source": [
    "# Ian Goodfellow: Generative Adversarial Networks (NIPS 2016 tutorial)\n",
    "## Why study generative models?\n",
    "* Excellent to test of ability to use High-dimensional data\n",
    "* Simulated RL\n",
    "* Missing data\n",
    "* Realistic generation tasks\n",
    "    * Single Image Super-Resolution\n",
    "![1_5tuN3sDrbq9ug2BdeTwiQQ](https://user-images.githubusercontent.com/46288072/56601361-e583de80-65c8-11e9-8aff-975c94ae87d8.png)\n",
    "(Ledig et al 2010)\n",
    "\n",
    "* Adobe has an interactive GAN - iGAN where a user can draw a line, which would be translated to something - mountain by the generative model.\n",
    "\n",
    "* Image to Image Translation - edges to photos"
   ]
  },
  {
   "cell_type": "markdown",
   "metadata": {},
   "source": [
    "`What is a Markov Chain? What are Autoencoders?`\n",
    "There are two types for Explicit Density -> <b>Approximate density</b>\n",
    "* Variational\n",
    "    * Variational Autoencoder\n",
    "* Markov Chain\n",
    "    * Boltzmann Machine\n",
    "<p> One example of a fully visible belief net is <i>Wavenet</i>. \n"
   ]
  }
 ],
 "metadata": {
  "kernelspec": {
   "display_name": "Python 3",
   "language": "python",
   "name": "python3"
  },
  "language_info": {
   "codemirror_mode": {
    "name": "ipython",
    "version": 3
   },
   "file_extension": ".py",
   "mimetype": "text/x-python",
   "name": "python",
   "nbconvert_exporter": "python",
   "pygments_lexer": "ipython3",
   "version": "3.7.1"
  }
 },
 "nbformat": 4,
 "nbformat_minor": 2
}
